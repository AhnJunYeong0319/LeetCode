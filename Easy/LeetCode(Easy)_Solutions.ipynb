{
  "nbformat": 4,
  "nbformat_minor": 0,
  "metadata": {
    "colab": {
      "name": "LeetCode(Easy)_Solutions.ipynb",
      "provenance": [],
      "collapsed_sections": []
    },
    "kernelspec": {
      "name": "python3",
      "display_name": "Python 3"
    },
    "language_info": {
      "name": "python"
    }
  },
  "cells": [
    {
      "cell_type": "code",
      "execution_count": null,
      "metadata": {
        "id": "IkRJdyXmJ3Gj"
      },
      "outputs": [],
      "source": [
        ""
      ]
    },
    {
      "cell_type": "markdown",
      "source": [
        "1. Two Sum"
      ],
      "metadata": {
        "id": "95ls6ixTJ8p_"
      }
    },
    {
      "cell_type": "markdown",
      "source": [
        "Hash Table"
      ],
      "metadata": {
        "id": "VBfqXkXAN6Hs"
      }
    },
    {
      "cell_type": "code",
      "source": [
        "class Solution:\n",
        "    def twoSum(self, nums, target):\n",
        "        hashmap = {}\n",
        "        for i in range(len(nums)):\n",
        "            hashmap[nums[i]] = i\n",
        "        for i in range(len(nums)):\n",
        "            complement = target - nums[i]\n",
        "            if complement in hashmap and hashmap[complement] != i:\n",
        "                return [i, hashmap[complement]] \n",
        "\n",
        "a = Solution()\n",
        "print( a.twoSum( [2,7,11,15] , 9) )"
      ],
      "metadata": {
        "colab": {
          "base_uri": "https://localhost:8080/"
        },
        "id": "EmmqxO_1J8GX",
        "outputId": "baa43268-d83f-48b3-a836-b48c5d74324f"
      },
      "execution_count": null,
      "outputs": [
        {
          "output_type": "stream",
          "name": "stdout",
          "text": [
            "[0, 1]\n"
          ]
        }
      ]
    },
    {
      "cell_type": "markdown",
      "source": [
        "One-pass Hash Table"
      ],
      "metadata": {
        "id": "2nwZgGagN88U"
      }
    },
    {
      "cell_type": "code",
      "source": [
        "class Solution:\n",
        "    def twoSum(self, nums, target):\n",
        "        hashmap = {}\n",
        "        for i in range(len(nums)):\n",
        "            complement = target - nums[i]\n",
        "            if complement in hashmap:\n",
        "                return [i, hashmap[complement]]\n",
        "            hashmap[nums[i]] = i\n",
        "\n",
        "a = Solution()\n",
        "print(a.twoSum([2,7,11,15], 9))"
      ],
      "metadata": {
        "colab": {
          "base_uri": "https://localhost:8080/"
        },
        "id": "13Mx8o71N9DF",
        "outputId": "d0ecd0a9-b08d-4157-a71f-cff59ef5366f"
      },
      "execution_count": null,
      "outputs": [
        {
          "output_type": "stream",
          "name": "stdout",
          "text": [
            "[1, 0]\n"
          ]
        }
      ]
    },
    {
      "cell_type": "code",
      "source": [
        ""
      ],
      "metadata": {
        "id": "EHTFXKDyJ8In"
      },
      "execution_count": null,
      "outputs": []
    },
    {
      "cell_type": "markdown",
      "source": [
        "9. Palindrome Number"
      ],
      "metadata": {
        "id": "e3oLaO9UJ-_2"
      }
    },
    {
      "cell_type": "code",
      "source": [
        "'sasfdsf'[::-1]"
      ],
      "metadata": {
        "colab": {
          "base_uri": "https://localhost:8080/",
          "height": 35
        },
        "id": "H5fd8lL0TUlT",
        "outputId": "5f839a6a-7517-49f1-cd8f-602f9029f804"
      },
      "execution_count": null,
      "outputs": [
        {
          "output_type": "execute_result",
          "data": {
            "text/plain": [
              "'fsdfsas'"
            ],
            "application/vnd.google.colaboratory.intrinsic+json": {
              "type": "string"
            }
          },
          "metadata": {},
          "execution_count": 26
        }
      ]
    },
    {
      "cell_type": "code",
      "source": [
        "class Solution:\n",
        "    def isPalindrome(self, x):\n",
        "      newX = str(x)\n",
        "      ans = True\n",
        "\n",
        "      for idx in range(len(newX) // 2):\n",
        "          \n",
        "        if newX[idx] != newX[len(newX)-idx-1] :\n",
        "          ans = False\n",
        "\n",
        "        continue\n",
        "\n",
        "      return ans\n",
        "          "
      ],
      "metadata": {
        "id": "6TG6C8U7J8K3"
      },
      "execution_count": null,
      "outputs": []
    },
    {
      "cell_type": "code",
      "source": [
        "Solution().isPalindrome(12334554321)"
      ],
      "metadata": {
        "id": "_wYPkGmmTcss"
      },
      "execution_count": null,
      "outputs": []
    },
    {
      "cell_type": "markdown",
      "source": [
        "using slicing"
      ],
      "metadata": {
        "id": "-Vh8jCDBTaZM"
      }
    },
    {
      "cell_type": "code",
      "source": [
        "class Solution:\n",
        "    def isPalindrome(self, x):\n",
        "      newX = str(x)\n",
        "      ans = True\n",
        "\n",
        "      if newX[:len(newX)//2] != newX[len(newX) - len(newX)//2:len(newX)][::-1]:\n",
        "        ans = False\n",
        "\n",
        "      return ans"
      ],
      "metadata": {
        "id": "3C3PifHeTZ57"
      },
      "execution_count": null,
      "outputs": []
    },
    {
      "cell_type": "code",
      "source": [
        "Solution().isPalindrome(12341554321)"
      ],
      "metadata": {
        "colab": {
          "base_uri": "https://localhost:8080/"
        },
        "id": "jj-E90J7SngF",
        "outputId": "1c2c7476-4108-4e86-b2da-63f6ed533a53"
      },
      "execution_count": null,
      "outputs": [
        {
          "output_type": "execute_result",
          "data": {
            "text/plain": [
              "False"
            ]
          },
          "metadata": {},
          "execution_count": 52
        }
      ]
    },
    {
      "cell_type": "markdown",
      "source": [
        "Faster slicing? (best so far)"
      ],
      "metadata": {
        "id": "LjiRKYIsX60P"
      }
    },
    {
      "cell_type": "code",
      "source": [
        "class Solution:\n",
        "    def isPalindrome(self, x):\n",
        "      newX = str(x)\n",
        "\n",
        "      if newX != newX[::-1]:\n",
        "        return False\n",
        "      else:\n",
        "        return True"
      ],
      "metadata": {
        "id": "OyaPF_3EX66S"
      },
      "execution_count": null,
      "outputs": []
    },
    {
      "cell_type": "code",
      "source": [
        "Solution().isPalindrome(1234554321)"
      ],
      "metadata": {
        "id": "B6AFNCglJ8UA",
        "colab": {
          "base_uri": "https://localhost:8080/"
        },
        "outputId": "e8dbb8b3-605b-498b-9e57-d616f1d8fa42"
      },
      "execution_count": null,
      "outputs": [
        {
          "output_type": "execute_result",
          "data": {
            "text/plain": [
              "True"
            ]
          },
          "metadata": {},
          "execution_count": 9
        }
      ]
    },
    {
      "cell_type": "markdown",
      "source": [
        "13. Roman to Integer"
      ],
      "metadata": {
        "id": "U-LYJkpAakh0"
      }
    },
    {
      "cell_type": "markdown",
      "source": [
        "using the given string itself<br>\n",
        "Runtime: 78 ms, faster than 35.99% of Python3 online submissions for Roman to Integer.\n",
        "Memory Usage: 13.9 MB, less than 84.07% of Python3 online submissions for Roman to Integer."
      ],
      "metadata": {
        "id": "pDNRxXr7c5wy"
      }
    },
    {
      "cell_type": "code",
      "source": [
        "class Solution:\n",
        "    def romanToInt(self, s) :\n",
        "      hash = {'I' : 1,\n",
        "              'V' : 5,\n",
        "              'X' : 10,\n",
        "              'L' : 50,\n",
        "              'C' : 100,\n",
        "              'D' : 500,\n",
        "              'M' : 1000}\n",
        "      \n",
        "      ans = 0\n",
        "\n",
        "      for idx in range(len(s) - 1): # 마지막 원소 제외\n",
        "        if hash[ s[idx] ]  < hash[s [idx + 1] ] : # if\n",
        "            ans -= hash[ s[idx] ] \n",
        "            print(f'- {hash[ s[idx] ]}') \n",
        "        else : # else\n",
        "            ans += hash[ s[idx] ]\n",
        "            print(f'+ {hash[ s[idx] ]}') \n",
        "\n",
        "      return ans + hash[s[-1]] # 마지막 원소 : +\n",
        "        \n",
        "\n",
        "s = \"LVIII\"\n",
        "\n",
        "print(Solution().romanToInt(s))"
      ],
      "metadata": {
        "id": "2qD_5flaJ8WI",
        "colab": {
          "base_uri": "https://localhost:8080/"
        },
        "outputId": "a6570a82-869d-4026-de59-4bb5da041fc3"
      },
      "execution_count": null,
      "outputs": [
        {
          "output_type": "stream",
          "name": "stdout",
          "text": [
            "+ 50\n",
            "+ 5\n",
            "+ 1\n",
            "+ 1\n",
            "58\n"
          ]
        }
      ]
    },
    {
      "cell_type": "markdown",
      "source": [
        "list comprehension ver.<br>\n",
        "Runtime: 77 ms, faster than 37.65% of Python3 online submissions for Roman to Integer.\n",
        "Memory Usage: 13.8 MB, less than 98.91% of Python3 online submissions for Roman to Integer."
      ],
      "metadata": {
        "id": "GFQit96y6hVB"
      }
    },
    {
      "cell_type": "code",
      "source": [
        "class Solution:\n",
        "    def romanToInt(self, s) :\n",
        "      hash = {'I' : 1,\n",
        "              'V' : 5,\n",
        "              'X' : 10,\n",
        "              'L' : 50,\n",
        "              'C' : 100,\n",
        "              'D' : 500,\n",
        "              'M' : 1000}\n",
        "\n",
        "      return hash[s[-1]] + sum([- hash[ s[idx] ] if hash[ s[idx] ]  < hash[s [idx + 1] ] else + hash[ s[idx] ] for idx in range(len(s) - 1)])\n",
        "        \n",
        "\n",
        "s = \"MCMXCIV\"\n",
        "\n",
        "print(Solution().romanToInt(s))"
      ],
      "metadata": {
        "colab": {
          "base_uri": "https://localhost:8080/"
        },
        "id": "N99yyJ896hZv",
        "outputId": "54b493eb-6833-46dc-9816-289b00529337"
      },
      "execution_count": null,
      "outputs": [
        {
          "output_type": "stream",
          "name": "stdout",
          "text": [
            "1994\n"
          ]
        }
      ]
    },
    {
      "cell_type": "code",
      "source": [
        "hash = {'I' : 1,\n",
        "              'V' : 5,\n",
        "              'X' : 10,\n",
        "              'L' : 50,\n",
        "              'C' : 100,\n",
        "              'D' : 500,\n",
        "              'M' : 1000}\n",
        "\n",
        "s = \"MCMXCIV\"\n",
        "\n"
      ],
      "metadata": {
        "colab": {
          "base_uri": "https://localhost:8080/"
        },
        "id": "Xckrqf9C5aEa",
        "outputId": "c9cbc6aa-79a0-47f8-98b5-5c9886089eb2"
      },
      "execution_count": null,
      "outputs": [
        {
          "output_type": "stream",
          "name": "stdout",
          "text": [
            "1989\n"
          ]
        }
      ]
    },
    {
      "cell_type": "code",
      "source": [
        "class Solution:\n",
        "    def romanToInt(self, s) :\n",
        "      hash = {'I' : 1,\n",
        "              'V' : 5,\n",
        "              'X' : 10,\n",
        "              'L' : 50,\n",
        "              'C' : 100,\n",
        "              'D' : 500,\n",
        "              'M' : 1000}\n",
        "      \n",
        "      ans = 0\n",
        "\n",
        "      for idx in range(len(s) - 1): # 마지막 원소는 뒤 원소가 없어서 제외\n",
        "        if s[idx] in ['V', 'L', 'D', 'M']: # 1, 10, 100, 1000\n",
        "\n",
        "          if hash[ s[idx] ]  < hash[s [idx + 1] ] : # 뒤에가 같거나 더 큰 숫자면\n",
        "            ans -= hash[ s[idx] ] \n",
        "            print(f'- {hash[ s[idx] ]}') \n",
        "          else : # 뒤에가 같거나 더 작은 숫자면\n",
        "            ans += hash[ s[idx] ]\n",
        "            print(f'+ {hash[ s[idx] ]}') \n",
        "        \n",
        "        else : \n",
        "          ans += hash[ s[idx] ]\n",
        "          print(f'+ {hash[ s[idx] ]}') \n",
        "\n",
        "      return ans + hash[s[-1]] # 마지막 원소는 무조건 더해주기\n",
        "        \n",
        "\n",
        "s = \"MCMXCIV\"\n",
        "\n",
        "print(Solution().romanToInt(s))"
      ],
      "metadata": {
        "colab": {
          "base_uri": "https://localhost:8080/"
        },
        "id": "UzRjVfa6b3Bf",
        "outputId": "0636efab-7312-423e-d86f-ec378b42bbc7"
      },
      "execution_count": null,
      "outputs": [
        {
          "output_type": "execute_result",
          "data": {
            "text/plain": [
              "5"
            ]
          },
          "metadata": {},
          "execution_count": 14
        }
      ]
    },
    {
      "cell_type": "markdown",
      "source": [
        ""
      ],
      "metadata": {
        "id": "cYhJf1iQ2UN6"
      }
    },
    {
      "cell_type": "code",
      "source": [
        "char = 'LVIII'\n",
        "char[-1]"
      ],
      "metadata": {
        "colab": {
          "base_uri": "https://localhost:8080/",
          "height": 36
        },
        "id": "GeFMjttK2U19",
        "outputId": "58d5f0f6-6728-420d-847a-82902546a062"
      },
      "execution_count": null,
      "outputs": [
        {
          "output_type": "execute_result",
          "data": {
            "text/plain": [
              "'I'"
            ],
            "application/vnd.google.colaboratory.intrinsic+json": {
              "type": "string"
            }
          },
          "metadata": {},
          "execution_count": 24
        }
      ]
    },
    {
      "cell_type": "code",
      "source": [
        "char = 'LVIII'\n",
        "\n",
        "hash = {'I' : 1,\n",
        "              'V' : 5,\n",
        "              'X' : 10,\n",
        "              'L' : 50,\n",
        "              'C' : 100,\n",
        "              'D' : 500,\n",
        "              'M' : 1000}\n",
        "start = char[0]\n",
        "\n"
      ],
      "metadata": {
        "id": "vh4PleQ5J8YZ"
      },
      "execution_count": null,
      "outputs": []
    },
    {
      "cell_type": "code",
      "source": [
        "list(hash.keys()).index('V')"
      ],
      "metadata": {
        "colab": {
          "base_uri": "https://localhost:8080/"
        },
        "id": "c5H7WqClwErC",
        "outputId": "bb6ff033-1f06-421d-be83-55075b01d3b5"
      },
      "execution_count": null,
      "outputs": [
        {
          "output_type": "execute_result",
          "data": {
            "text/plain": [
              "1"
            ]
          },
          "metadata": {},
          "execution_count": 23
        }
      ]
    },
    {
      "cell_type": "markdown",
      "source": [
        "4 or 9일 때만 법칙 적용"
      ],
      "metadata": {
        "id": "TjgX9VlifuaD"
      }
    },
    {
      "cell_type": "markdown",
      "source": [
        "using index"
      ],
      "metadata": {
        "id": "IgPTkA6Xc4HX"
      }
    },
    {
      "cell_type": "code",
      "source": [
        "for i in len(char):\n",
        "  if char[i] > char[i+1]"
      ],
      "metadata": {
        "id": "2da-X9dFcCln"
      },
      "execution_count": null,
      "outputs": []
    },
    {
      "cell_type": "markdown",
      "source": [
        "14. Longest Common Prefix"
      ],
      "metadata": {
        "id": "BH-GsO4ade1B"
      }
    },
    {
      "cell_type": "code",
      "source": [
        "class Solution:\n",
        "    def longestCommonPrefix(self, strs):\n",
        "      ans = ''\n",
        "      for interval in range(min( list(map(len, strs)) ) + 1):  \n",
        "        if len( set (list(map(lambda x: x[:interval], strs)) ) ) == 1:\n",
        "          ans = list(map(lambda x: x[:interval], strs))[0]\n",
        "        else :\n",
        "          break\n",
        "\n",
        "      return ans\n",
        "\n",
        "print(Solution().longestCommonPrefix([\"flower\",\"flow\",\"flight\"]))"
      ],
      "metadata": {
        "id": "9hBCyRZ8de7m",
        "colab": {
          "base_uri": "https://localhost:8080/"
        },
        "outputId": "f539867a-c306-49fd-b8a8-b8d67f5d4c66"
      },
      "execution_count": null,
      "outputs": [
        {
          "output_type": "stream",
          "name": "stdout",
          "text": [
            "fl\n"
          ]
        }
      ]
    },
    {
      "cell_type": "code",
      "source": [
        "list(range(len(s)))"
      ],
      "metadata": {
        "colab": {
          "base_uri": "https://localhost:8080/"
        },
        "id": "inHoxfPK1spm",
        "outputId": "8b4525a1-8c7d-4ce3-d91b-1d73e5a76d70"
      },
      "execution_count": null,
      "outputs": [
        {
          "output_type": "execute_result",
          "data": {
            "text/plain": [
              "[0, 1, 2, 3, 4, 5, 6, 7, 8, 9]"
            ]
          },
          "metadata": {},
          "execution_count": 95
        }
      ]
    },
    {
      "cell_type": "markdown",
      "source": [
        "20. Valid Parentheses"
      ],
      "metadata": {
        "id": "m15_BMUxhAsd"
      }
    },
    {
      "cell_type": "markdown",
      "source": [
        "스택 구현해서 풀기"
      ],
      "metadata": {
        "id": "xmld-ETfrp78"
      }
    },
    {
      "cell_type": "code",
      "source": [
        "class Solution:\n",
        "    def isValid(self, s):\n",
        "\n",
        "        hashmap = {\"(\" : \")\",\n",
        "           \"[\" : \"]\",\n",
        "           \"{\" : \"}\"}\n",
        "\n",
        "        r_hashmap = dict((v, k) for k, v in hashmap.items()) # memory : get worse, speed : normal?\n",
        "\n",
        "        myStack = [ ] # init my stack\n",
        "\n",
        "        try:\n",
        "          for char in s :\n",
        "            if char in hashmap.keys():\n",
        "              myStack.append(char)\n",
        "\n",
        "            else:\n",
        "              if myStack[-1] == r_hashmap[char]:\n",
        "                myStack.pop()\n",
        "                \n",
        "              else:\n",
        "                break\n",
        "\n",
        "        \n",
        "        except IndexError:\n",
        "          return False\n",
        "        else:\n",
        "          return (myStack == [])\n",
        "\n",
        "         "
      ],
      "metadata": {
        "id": "1U024_DihycF"
      },
      "execution_count": null,
      "outputs": []
    },
    {
      "cell_type": "code",
      "source": [
        "s = \"()(()){()[][]}\"\n",
        "\n",
        "print(Solution().isValid(s))"
      ],
      "metadata": {
        "colab": {
          "base_uri": "https://localhost:8080/"
        },
        "id": "ULWsjgEWh0Hk",
        "outputId": "902fe72c-0625-42f2-e00c-ff7d285bb2ef"
      },
      "execution_count": null,
      "outputs": [
        {
          "output_type": "stream",
          "name": "stdout",
          "text": [
            "['(']\n",
            "[]\n",
            "['(']\n",
            "['(', '(']\n",
            "['(']\n",
            "[]\n",
            "['{']\n",
            "['{', '(']\n",
            "['{']\n",
            "['{', '[']\n",
            "['{']\n",
            "['{', '[']\n",
            "['{']\n",
            "[]\n",
            "True\n"
          ]
        }
      ]
    },
    {
      "cell_type": "code",
      "source": [
        ""
      ],
      "metadata": {
        "id": "v6G3sLQRhuCl"
      },
      "execution_count": null,
      "outputs": []
    },
    {
      "cell_type": "markdown",
      "source": [
        "21. Merge Two Sorted Lists"
      ],
      "metadata": {
        "id": "PdDysybir0VF"
      }
    },
    {
      "cell_type": "markdown",
      "source": [
        "https://ybworld.tistory.com/85\n",
        "\n",
        "linked list 구현 <br>\n",
        "https://www.educative.io/edpresso/how-to-create-a-linked-list-in-python"
      ],
      "metadata": {
        "id": "HLCi8zqnhh8C"
      }
    },
    {
      "cell_type": "code",
      "source": [
        "class Solution(object):\n",
        "    def mergeTwoLists(self, list1, list2):\n",
        "        \"\"\"\n",
        "        :type list1: Optional[ListNode]\n",
        "        :type list2: Optional[ListNode]\n",
        "        :rtype: Optional[ListNode]\n",
        "        \"\"\"\n",
        "        i, j = 0, 0\n",
        "        myList = []        \n",
        "\n",
        "        for k in range( len(list1 + list2) ):\n",
        "          if list1[i] < list2[j]:\n",
        "            myList.append(list1[i])\n",
        "            \n",
        "            if (i+1) == len(list1):\n",
        "              myList.extend(list2[j:])\n",
        "              break\n",
        "            else:\n",
        "              i += 1\n",
        "          else:\n",
        "            myList.append(list2[j])\n",
        "\n",
        "            if (j+1) == len(list2):\n",
        "              myList.extend(list1[i:])\n",
        "              break\n",
        "            else:\n",
        "              j += 1\n",
        "\n",
        "        \n",
        "        return myList\n",
        "            \n",
        "          "
      ],
      "metadata": {
        "id": "RqswZ5Uerzz1"
      },
      "execution_count": null,
      "outputs": []
    },
    {
      "cell_type": "code",
      "source": [
        "# Input: list1 = [1,2,4], list2 = [1,3,4]\n",
        "print(Solution().mergeTwoLists([1,2,4], [1,3,4]))"
      ],
      "metadata": {
        "colab": {
          "base_uri": "https://localhost:8080/"
        },
        "id": "uqTVOxJWrz2N",
        "outputId": "e7697f9c-5622-4164-a6e8-53752c1a3c60"
      },
      "execution_count": null,
      "outputs": [
        {
          "output_type": "stream",
          "name": "stdout",
          "text": [
            "[1, 1, 2, 3, 4, 4]\n"
          ]
        }
      ]
    },
    {
      "cell_type": "code",
      "source": [
        "zz = [1,2,3,45,7]\n",
        "\n",
        "zz[4:]"
      ],
      "metadata": {
        "colab": {
          "base_uri": "https://localhost:8080/"
        },
        "id": "0WM3Hwnjrz4f",
        "outputId": "f008b8cd-6a94-48d3-bfb6-24b8a4af30c8"
      },
      "execution_count": null,
      "outputs": [
        {
          "output_type": "execute_result",
          "data": {
            "text/plain": [
              "[7]"
            ]
          },
          "metadata": {},
          "execution_count": 39
        }
      ]
    },
    {
      "cell_type": "code",
      "source": [
        "k = []\n",
        "k[0] = 1\n",
        "\n",
        "k"
      ],
      "metadata": {
        "colab": {
          "base_uri": "https://localhost:8080/",
          "height": 229
        },
        "id": "gNuoE-_Wrz6w",
        "outputId": "04395fdd-c924-4e40-9764-79309f05af0c"
      },
      "execution_count": null,
      "outputs": [
        {
          "output_type": "error",
          "ename": "IndexError",
          "evalue": "ignored",
          "traceback": [
            "\u001b[0;31m---------------------------------------------------------------------------\u001b[0m",
            "\u001b[0;31mIndexError\u001b[0m                                Traceback (most recent call last)",
            "\u001b[0;32m<ipython-input-36-095db4f6b560>\u001b[0m in \u001b[0;36m<module>\u001b[0;34m()\u001b[0m\n\u001b[1;32m      1\u001b[0m \u001b[0mk\u001b[0m \u001b[0;34m=\u001b[0m \u001b[0;34m[\u001b[0m\u001b[0;34m]\u001b[0m\u001b[0;34m\u001b[0m\u001b[0;34m\u001b[0m\u001b[0m\n\u001b[0;32m----> 2\u001b[0;31m \u001b[0mk\u001b[0m\u001b[0;34m[\u001b[0m\u001b[0;36m0\u001b[0m\u001b[0;34m]\u001b[0m \u001b[0;34m=\u001b[0m \u001b[0;36m1\u001b[0m\u001b[0;34m\u001b[0m\u001b[0;34m\u001b[0m\u001b[0m\n\u001b[0m\u001b[1;32m      3\u001b[0m \u001b[0;34m\u001b[0m\u001b[0m\n\u001b[1;32m      4\u001b[0m \u001b[0mk\u001b[0m\u001b[0;34m\u001b[0m\u001b[0;34m\u001b[0m\u001b[0m\n",
            "\u001b[0;31mIndexError\u001b[0m: list assignment index out of range"
          ]
        }
      ]
    },
    {
      "cell_type": "code",
      "source": [
        ""
      ],
      "metadata": {
        "id": "G_zdiXCwrz89"
      },
      "execution_count": null,
      "outputs": []
    },
    {
      "cell_type": "markdown",
      "source": [
        "28. Implement strStr()"
      ],
      "metadata": {
        "id": "0Xz34tvkiO3F"
      }
    },
    {
      "cell_type": "markdown",
      "source": [
        "45 / 87"
      ],
      "metadata": {
        "id": "ORyYmDAWtmQ8"
      }
    },
    {
      "cell_type": "code",
      "source": [
        "class Solution(object):\n",
        "    def strStr(self, haystack, needle):\n",
        "        \"\"\"\n",
        "        :type haystack: str\n",
        "        :type needle: str\n",
        "        :rtype: int\n",
        "        \"\"\"\n",
        "\n",
        "        idx = -1\n",
        "        checker = 0\n",
        "\n",
        "        if needle == '':\n",
        "          return 0\n",
        "        \n",
        "        else:\n",
        "\n",
        "          for idx1 in range(len(haystack)):\n",
        "            for idx2 in range(len(needle)):\n",
        "              \n",
        "              if haystack[idx1] == needle[idx2]:\n",
        "                \n",
        "                if haystack[idx1:idx1 + len(needle)] == needle: # 덩어리가 같으면\n",
        "                  \n",
        "                  checker = 1\n",
        "                  idx = idx1 # 바로 인덱스 저장\n",
        "                  break\n",
        "                \n",
        "                else:\n",
        "                  continue\n",
        "\n",
        "              else:\n",
        "                continue\n",
        "            \n",
        "            if checker == 1:\n",
        "              break\n",
        "            else:\n",
        "              continue\n",
        "          \n",
        "          return idx\n",
        "        "
      ],
      "metadata": {
        "id": "tMwlSOFIqelV"
      },
      "execution_count": null,
      "outputs": []
    },
    {
      "cell_type": "code",
      "source": [
        "S1, S2 = 'adsfadsf', 'sf'\n",
        "\n",
        "print(Solution().strStr(S1, S2) )"
      ],
      "metadata": {
        "colab": {
          "base_uri": "https://localhost:8080/"
        },
        "id": "GU8xOPuDiO-l",
        "outputId": "5a4920e8-1143-43c7-c50a-2a02230836bf"
      },
      "execution_count": null,
      "outputs": [
        {
          "output_type": "stream",
          "name": "stdout",
          "text": [
            "2\n"
          ]
        }
      ]
    },
    {
      "cell_type": "code",
      "source": [
        "'fase'[0:3]"
      ],
      "metadata": {
        "colab": {
          "base_uri": "https://localhost:8080/",
          "height": 35
        },
        "id": "afB3wFEGiPAt",
        "outputId": "5690c4c1-183d-4860-82c8-f85954e53034"
      },
      "execution_count": null,
      "outputs": [
        {
          "output_type": "execute_result",
          "data": {
            "text/plain": [
              "'fas'"
            ],
            "application/vnd.google.colaboratory.intrinsic+json": {
              "type": "string"
            }
          },
          "metadata": {},
          "execution_count": 2
        }
      ]
    },
    {
      "cell_type": "markdown",
      "source": [
        ""
      ],
      "metadata": {
        "id": "V2IJl-hetzl8"
      }
    },
    {
      "cell_type": "markdown",
      "source": [
        "66. Plus One"
      ],
      "metadata": {
        "id": "bWuczw8ftr19"
      }
    },
    {
      "cell_type": "markdown",
      "source": [
        "99.93 / 17.18"
      ],
      "metadata": {
        "id": "tC5H_SLNvxTi"
      }
    },
    {
      "cell_type": "code",
      "source": [
        "class Solution(object):\n",
        "    def plusOne(self, digits):\n",
        "        \"\"\"\n",
        "        :type digits: List[int]\n",
        "        :rtype: List[int]\n",
        "        \"\"\"\n",
        "        \n",
        "        def split(word):\n",
        "          return [char for char in word]\n",
        "\n",
        "        temp = str( int(\"\".join(map(str, digits))) + 1 )\n",
        "\n",
        "        return split(temp)\n",
        "        \n",
        "        \n",
        "        "
      ],
      "metadata": {
        "id": "MrOxzLE6tsA9"
      },
      "execution_count": null,
      "outputs": []
    },
    {
      "cell_type": "code",
      "source": [
        "digits = [9, 234, 7]\n",
        "\n",
        "print(Solution().plusOne(digits))"
      ],
      "metadata": {
        "colab": {
          "base_uri": "https://localhost:8080/"
        },
        "id": "AMgjW4__t60T",
        "outputId": "0dbcc48d-5566-4ea0-9053-cefbced119e0"
      },
      "execution_count": null,
      "outputs": [
        {
          "output_type": "stream",
          "name": "stdout",
          "text": [
            "['9', '2', '3', '4', '8']\n"
          ]
        }
      ]
    },
    {
      "cell_type": "markdown",
      "source": [
        "86 / 43"
      ],
      "metadata": {
        "id": "PJTjmP69v3FQ"
      }
    },
    {
      "cell_type": "code",
      "source": [
        "class Solution(object):\n",
        "    def plusOne(self, digits):\n",
        "        \"\"\"\n",
        "        :type digits: List[int]\n",
        "        :rtype: List[int]\n",
        "        \"\"\"\n",
        "        \n",
        "        def split(word):\n",
        "          return [char for char in word]\n",
        "\n",
        "\n",
        "        return split(str( int(\"\".join(map(str, digits))) + 1 ))\n",
        "        \n",
        "        \n",
        "        "
      ],
      "metadata": {
        "id": "-THOHVEzv1gZ"
      },
      "execution_count": null,
      "outputs": []
    },
    {
      "cell_type": "code",
      "source": [
        "digits = [9, 234, 7]\n",
        "\n",
        "print(Solution().plusOne(digits))"
      ],
      "metadata": {
        "colab": {
          "base_uri": "https://localhost:8080/"
        },
        "id": "T7BKpXmWu5zT",
        "outputId": "6b598fc9-bc8f-4d8b-b3c6-c256d1e32833"
      },
      "execution_count": null,
      "outputs": [
        {
          "output_type": "stream",
          "name": "stdout",
          "text": [
            "['9', '2', '3', '4', '8']\n"
          ]
        }
      ]
    },
    {
      "cell_type": "markdown",
      "source": [
        "24 / 91"
      ],
      "metadata": {
        "id": "6v-MM-Thwdkj"
      }
    },
    {
      "cell_type": "code",
      "source": [
        "class Solution(object):\n",
        "    def plusOne(self, digits):\n",
        "        \"\"\"\n",
        "        :type digits: List[int]\n",
        "        :rtype: List[int]\n",
        "        \"\"\"\n",
        "\n",
        "        return [char for char in (str( int(\"\".join(map(str, digits))) + 1 ))]\n"
      ],
      "metadata": {
        "id": "1S9ikfIPwKES"
      },
      "execution_count": null,
      "outputs": []
    },
    {
      "cell_type": "code",
      "source": [
        "digits = [9, 234, 7]\n",
        "\n",
        "print(Solution().plusOne(digits))"
      ],
      "metadata": {
        "colab": {
          "base_uri": "https://localhost:8080/"
        },
        "id": "f8Ww87HqwKGx",
        "outputId": "d3f104a8-ff61-4010-a35f-19d94e99e612"
      },
      "execution_count": null,
      "outputs": [
        {
          "output_type": "stream",
          "name": "stdout",
          "text": [
            "['9', '2', '3', '4', '8']\n"
          ]
        }
      ]
    },
    {
      "cell_type": "markdown",
      "source": [
        "58. Length of Last Word"
      ],
      "metadata": {
        "id": "SiEFG514wjZR"
      }
    },
    {
      "cell_type": "markdown",
      "source": [
        "76 / 52"
      ],
      "metadata": {
        "id": "bnPh9EI7xpo5"
      }
    },
    {
      "cell_type": "code",
      "source": [
        "class Solution(object):\n",
        "    def lengthOfLastWord(self, s):\n",
        "        \"\"\"\n",
        "        :type s: str\n",
        "        :rtype: int\n",
        "        \"\"\"\n",
        "        checker = 0\n",
        "\n",
        "        for char in s[::-1]:\n",
        "          if char == \" \":\n",
        "            if checker == 0:\n",
        "              continue\n",
        "            else:\n",
        "              break\n",
        "          else:\n",
        "            checker += 1\n",
        "\n",
        "        return checker"
      ],
      "metadata": {
        "id": "j7WvGJvVwjeS"
      },
      "execution_count": null,
      "outputs": []
    },
    {
      "cell_type": "code",
      "source": [
        "s = \"luffy is still joyboy\"\n",
        "\n",
        "print(Solution().lengthOfLastWord(s))"
      ],
      "metadata": {
        "colab": {
          "base_uri": "https://localhost:8080/"
        },
        "id": "Sgfwiio2vADp",
        "outputId": "b94f9b23-aa1b-4ed5-b384-a736ee5b3936"
      },
      "execution_count": null,
      "outputs": [
        {
          "output_type": "stream",
          "name": "stdout",
          "text": [
            "6\n"
          ]
        }
      ]
    },
    {
      "cell_type": "code",
      "source": [
        ""
      ],
      "metadata": {
        "id": "mQs8-IY3xA1a"
      },
      "execution_count": null,
      "outputs": []
    },
    {
      "cell_type": "markdown",
      "source": [
        "69. Sqrt(x)"
      ],
      "metadata": {
        "id": "53m9ORUVxvi1"
      }
    },
    {
      "cell_type": "code",
      "source": [
        "class Solution(object):\n",
        "    def mySqrt(self, x):\n",
        "        \"\"\"\n",
        "        :type x: int\n",
        "        :rtype: int\n",
        "        \"\"\"\n",
        "        "
      ],
      "metadata": {
        "id": "ukoXIn6dxvsF"
      },
      "execution_count": null,
      "outputs": []
    },
    {
      "cell_type": "markdown",
      "source": [
        "70. Climbing Stairs"
      ],
      "metadata": {
        "id": "14WtOP1FyJP5"
      }
    },
    {
      "cell_type": "markdown",
      "source": [
        "66 / 63"
      ],
      "metadata": {
        "id": "m2M0LLIn1U6f"
      }
    },
    {
      "cell_type": "code",
      "source": [
        "class Solution(object):\n",
        "    def climbStairs(self, n):\n",
        "        \"\"\"\n",
        "        :type n: int\n",
        "        :rtype: int\n",
        "        \"\"\"\n",
        "\n",
        "        def fact(n):\n",
        "          return n * fact(n-1) if n > 1 else 1\n",
        "\n",
        "        ans = 0\n",
        "\n",
        "        if (n%2) == 0 : # n is even number\n",
        "          for onestep in range(0, n+1, 2) :\n",
        "            # of onestep : onestep\n",
        "            # of twostep : (n - onestep) / 2\n",
        "\n",
        "            ans += ( fact( onestep + ((n - onestep) / 2 )) ) / fact(onestep) / fact(((n - onestep) / 2 ))\n",
        "            \n",
        "\n",
        "        else: # n is odd number\n",
        "          for onestep in range(1, n+1, 2) :\n",
        "            # of onestep : onestep\n",
        "            # of twostep : (n - onestep) / 2\n",
        "\n",
        "            ans += ( fact( onestep + ((n - onestep) / 2 )) ) / fact(onestep) / fact(((n - onestep) / 2 ))\n",
        "\n",
        "        return int(ans)\n",
        "        "
      ],
      "metadata": {
        "id": "4PR807ixyJYa"
      },
      "execution_count": null,
      "outputs": []
    },
    {
      "cell_type": "code",
      "source": [
        "n = \n",
        "\n",
        "print(Solution().climbStairs(n))"
      ],
      "metadata": {
        "colab": {
          "base_uri": "https://localhost:8080/"
        },
        "id": "0LQafBq2xvzL",
        "outputId": "4ee5fd6a-8967-47c0-dcc2-d8d1aec5130a"
      },
      "execution_count": null,
      "outputs": [
        {
          "output_type": "stream",
          "name": "stdout",
          "text": [
            "3\n"
          ]
        }
      ]
    },
    {
      "cell_type": "markdown",
      "source": [
        "medium - 7. Reverse Integer"
      ],
      "metadata": {
        "id": "CGRxR60s3jgR"
      }
    },
    {
      "cell_type": "code",
      "source": [
        "class Solution(object):\n",
        "    def reverse(self, x):\n",
        "        \"\"\"\n",
        "        :type x: int\n",
        "        :rtype: int\n",
        "        \"\"\"\n",
        "        \n",
        "        "
      ],
      "metadata": {
        "id": "O8bhjhfz3joj"
      },
      "execution_count": null,
      "outputs": []
    },
    {
      "cell_type": "code",
      "source": [
        ""
      ],
      "metadata": {
        "id": "ss6M80q9zYPa"
      },
      "execution_count": null,
      "outputs": []
    }
  ]
}