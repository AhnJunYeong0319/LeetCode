{
  "metadata": {
    "language_info": {
      "codemirror_mode": {
        "name": "python",
        "version": 3
      },
      "file_extension": ".py",
      "mimetype": "text/x-python",
      "name": "python",
      "nbconvert_exporter": "python",
      "pygments_lexer": "ipython3",
      "version": "3.8"
    },
    "kernelspec": {
      "name": "python",
      "display_name": "Python (Pyodide)",
      "language": "python"
    }
  },
  "nbformat_minor": 4,
  "nbformat": 4,
  "cells": [
    {
      "cell_type": "markdown",
      "source": "# July\n# 18-19th",
      "metadata": {}
    },
    {
      "cell_type": "markdown",
      "source": "**136. Single Number (E)**",
      "metadata": {}
    },
    {
      "cell_type": "code",
      "source": "class Solution:\n    def singleNumber(self, nums) -> int:\n        nums.sort()\n        for i in range(1,len(nums),2):\n            if nums[i]!=nums[i-1]:\n                return nums[i-1]\n        return nums[-1]\n            ",
      "metadata": {
        "trusted": true
      },
      "execution_count": 2,
      "outputs": []
    },
    {
      "cell_type": "markdown",
      "source": "Explanation: the solution is in a O(nlog n) time complexity: first, we sort the the array (O(nlog n)), then we iterate it with the step two and compare every second element with the previous one in odrer to find a non-repeating integer.",
      "metadata": {}
    },
    {
      "cell_type": "markdown",
      "source": "My solution is accepted by the leetcode code-tester, but it does not meet the time complexity requirement. Thus, I came up with a better solution that\nmakes use of bitwise manipulation. If we apply XOR logical opetation on all the elements of the array we get the only non-repeating integer, because other integer nullify each other. So the code is following:",
      "metadata": {}
    },
    {
      "cell_type": "code",
      "source": "class Solution:\n    def singleNumber(self, nums) -> int:\n        return reduce(lambda x,y: x^y, nums)",
      "metadata": {},
      "execution_count": null,
      "outputs": []
    },
    {
      "cell_type": "markdown",
      "source": "**278. First Bad Version (E)**",
      "metadata": {}
    },
    {
      "cell_type": "markdown",
      "source": "This one is a simple binary search problem",
      "metadata": {}
    },
    {
      "cell_type": "code",
      "source": "class Solution:\n    def firstBadVersion(self, n) -> int:\n        low = 1\n        high = n\n        mid = int((low+high)/2)\n        while low<=high:\n            if isBadVersion(mid):\n                if mid == 0 or isBadVersion(mid-1)== False:\n                    return mid\n                high = mid-1\n            else:\n                low = mid+1\n            \n            mid = int((low+high)/2)\n        return -1\n                ",
      "metadata": {},
      "execution_count": null,
      "outputs": []
    },
    {
      "cell_type": "markdown",
      "source": "**189 Rotate Array (M)**",
      "metadata": {}
    },
    {
      "cell_type": "code",
      "source": "class Solution:\n    def rotate(self, nums: List[int], k: int) -> None:\n        \"\"\"\n        Do not return anything, modify nums in-place instead.\n        \"\"\"\n        def reverse(array,start,end):\n            i = start\n            j = end\n            temp = 0\n            while i<j:\n                temp = array[i]\n                array[i] = array[j]\n                array[j] = temp\n                i+=1\n                j-=1\n        move = k%len(nums)\n        reverse(nums, 0, len(nums)-1)\n        reverse(nums, 0, move-1)\n        reverse(nums, move,len(nums)-1)",
      "metadata": {},
      "execution_count": null,
      "outputs": []
    },
    {
      "cell_type": "markdown",
      "source": "This solution was inspired by another leetcode user. The idea of this solution is that we can split elements into 2 groups: first, length - k%(length)\nelements with new indices not exceeding the length, second, k%(length) elements with new indices exceeding the length. Initially the first group is in the left side of the array, while the second group is in the right side. It is quite obvious that if we perform the rotation the second group will take the left side, and the first group - the right side. That is why we reverse the array as the first step. Now we have what we needed, but the order of elements is also reversed in both groups. Hence, we reverse the order in both groups to finalize the rotation. ",
      "metadata": {}
    },
    {
      "cell_type": "code",
      "source": "",
      "metadata": {},
      "execution_count": null,
      "outputs": []
    }
  ]
}
