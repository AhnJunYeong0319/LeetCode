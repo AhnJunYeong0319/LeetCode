{
  "metadata": {
    "language_info": {
      "codemirror_mode": {
        "name": "python",
        "version": 3
      },
      "file_extension": ".py",
      "mimetype": "text/x-python",
      "name": "python",
      "nbconvert_exporter": "python",
      "pygments_lexer": "ipython3",
      "version": "3.8"
    },
    "kernelspec": {
      "name": "python",
      "display_name": "Python (Pyodide)",
      "language": "python"
    }
  },
  "nbformat_minor": 4,
  "nbformat": 4,
  "cells": [
    {
      "cell_type": "markdown",
      "source": "# August 1-2",
      "metadata": {}
    },
    {
      "cell_type": "markdown",
      "source": "**116. Populating Next Right Pointers in Each Node (M)**",
      "metadata": {}
    },
    {
      "cell_type": "code",
      "source": "class Solution:\n    def connect(self, root: 'Node') -> 'Node':\n        \n        def dfs(node1,node2):\n            if node1:\n                dfs(node1.left,node1.right)\n            if node2:\n                dfs(node2.left,node2.right)    \n            if node2 and node1:\n                node1.next = node2\n                dfs(node1.right,node2.left)\n        if root:\n            dfs(root.left,root.right)\n        return root\n            ",
      "metadata": {
        "trusted": true
      },
      "execution_count": null,
      "outputs": []
    },
    {
      "cell_type": "markdown",
      "source": "**392. Is Subsequence (E)**",
      "metadata": {}
    },
    {
      "cell_type": "code",
      "source": "class Solution:\n    def isSubsequence(self, s: str, t: str) -> bool:\n        i,j=0,0\n        while i<len(s) and j<len(t):\n            if s[i]==t[j]:\n                i+=1\n            j+=1\n        if i==len(s):\n            return True\n        return False\n                ",
      "metadata": {
        "trusted": true
      },
      "execution_count": null,
      "outputs": []
    },
    {
      "cell_type": "markdown",
      "source": "**605. Can Place Flowers (E)**",
      "metadata": {}
    },
    {
      "cell_type": "code",
      "source": "from math import ceil\nclass Solution:\n    def canPlaceFlowers(self, flowerbed: List[int], n: int) -> bool:\n        if flowerbed==[] or flowerbed==None:\n            return False\n        if flowerbed[0]==0:\n            flowerbed.insert(0,0)\n        if flowerbed[-1]==0:\n            flowerbed.append(0)\n        result = 0\n        cumulator = 0\n        for i in range(len(flowerbed)):\n            if flowerbed[i]==0:\n                cumulator+=1\n            else:\n                if cumulator>0:   \n                    result+=ceil(cumulator/2)-1\n                cumulator = 0\n            if i == len(flowerbed)-1:\n                if cumulator>0:\n                    result+=ceil(cumulator/2)-1\n        if result>=n:\n            return True\n        else:\n            return False\n                ",
      "metadata": {},
      "execution_count": null,
      "outputs": []
    }
  ]
}