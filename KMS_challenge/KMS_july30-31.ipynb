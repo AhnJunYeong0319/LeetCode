{
  "metadata": {
    "language_info": {
      "codemirror_mode": {
        "name": "python",
        "version": 3
      },
      "file_extension": ".py",
      "mimetype": "text/x-python",
      "name": "python",
      "nbconvert_exporter": "python",
      "pygments_lexer": "ipython3",
      "version": "3.8"
    },
    "kernelspec": {
      "name": "python",
      "display_name": "Python (Pyodide)",
      "language": "python"
    }
  },
  "nbformat_minor": 4,
  "nbformat": 4,
  "cells": [
    {
      "cell_type": "markdown",
      "source": "# July 30-31",
      "metadata": {}
    },
    {
      "cell_type": "markdown",
      "source": "**567. Permutation in String (M)**",
      "metadata": {}
    },
    {
      "cell_type": "markdown",
      "source": "Sliding window - set the window with the size of the length of s1, then traverse s2 with the \"sliding window\" checking if\nelements within the window form a permutation of s1.",
      "metadata": {}
    },
    {
      "cell_type": "code",
      "source": "class Solution:\n    def checkInclusion(self, s1: str, s2: str) -> bool:\n        def checkempty(dic):\n            for i in dic.keys():\n                if dic[i] != 0:\n                    return False\n            return True\n        if len(s1)>len(s2):\n            return False\n        curchar = dict()\n        for i in range(len(s1)):\n            if curchar.get(s1[i]) == None:\n                curchar[s1[i]] = 1\n            else:\n                curchar[s1[i]] += 1\n        for i in range(len(s1)):\n            if curchar.get(s2[i]) != None:\n                curchar[s2[i]] -= 1\n        if checkempty(curchar):\n            return True\n        i = 1\n        j = len(s1)\n        while j<len(s2):\n            if curchar.get(s2[i-1]) != None:\n                curchar[s2[i-1]] += 1\n            if curchar.get(s2[j])!= None:\n                curchar[s2[j]] -= 1\n            if checkempty(curchar):\n                return True\n            i+=1\n            j+=1\n        return False\n            ",
      "metadata": {
        "trusted": true
      },
      "execution_count": 2,
      "outputs": []
    },
    {
      "cell_type": "markdown",
      "source": "**617. Merge Two Binary Trees**",
      "metadata": {}
    },
    {
      "cell_type": "markdown",
      "source": "Typical DFS problem",
      "metadata": {}
    },
    {
      "cell_type": "code",
      "source": "class Solution:\n    def mergeTrees(self, root1, root2):\n        if not root1:\n            return root2\n        elif not root2:\n            return root1\n        \n        root1.val = root1.val + root2.val\n        \n        if not root1.left:\n            root1.left = root2.left\n        else:\n            if root2.left:\n                self.mergeTrees(root1.left, root2.left)\n        \n        if not root1.right:\n            root1.right = root2.right\n        else:\n            if root2.right:\n                self.mergeTrees(root1.right, root2.right)\n        \n        return root1",
      "metadata": {
        "trusted": true
      },
      "execution_count": 6,
      "outputs": []
    },
    {
      "cell_type": "markdown",
      "source": "**746. Min Cost Climbing Stairs**",
      "metadata": {}
    },
    {
      "cell_type": "markdown",
      "source": "Greedy algorithm - we choose the best option at each step",
      "metadata": {}
    },
    {
      "cell_type": "code",
      "source": "class Solution:\n    def minCostClimbingStairs(self, cost) -> int:\n        for i in range(2,len(cost)):\n            cost[i]+=min(cost[i-1],cost[i-2])\n        return min(cost[-1],cost[-2])",
      "metadata": {
        "trusted": true
      },
      "execution_count": 9,
      "outputs": []
    }
  ]
}