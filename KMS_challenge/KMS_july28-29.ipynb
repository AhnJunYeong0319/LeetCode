{
  "metadata": {
    "language_info": {
      "codemirror_mode": {
        "name": "python",
        "version": 3
      },
      "file_extension": ".py",
      "mimetype": "text/x-python",
      "name": "python",
      "nbconvert_exporter": "python",
      "pygments_lexer": "ipython3",
      "version": "3.8"
    },
    "kernelspec": {
      "name": "python",
      "display_name": "Python (Pyodide)",
      "language": "python"
    }
  },
  "nbformat_minor": 4,
  "nbformat": 4,
  "cells": [
    {
      "cell_type": "markdown",
      "source": "# July 28-29",
      "metadata": {}
    },
    {
      "cell_type": "raw",
      "source": "41. First Missing Positive (H)",
      "metadata": {}
    },
    {
      "cell_type": "markdown",
      "source": "In this problem we make use of indices of the array. First, we filter out all the unneccessary integers by assigning 0 in their places.\nThen, we \"mark\" all the positive integers present in the array by modifying elements in the indices coresponding to those positive values.\nFinally, we find the first missing positive value by traversing the resultant array.",
      "metadata": {}
    },
    {
      "cell_type": "code",
      "source": "class Solution:\n    def firstMissingPositive(self, nums) -> int:\n        nums.append(0)\n        for i in range(len(nums)):\n            if nums[i]>=len(nums) or nums[i]<0:\n                nums[i]=0\n        for i in range(len(nums)):\n            nums[nums[i]%len(nums)]+=len(nums)\n        for i in range(1,len(nums)):\n            if int(nums[i]/len(nums))==0:\n                return i\n        return len(nums)",
      "metadata": {
        "trusted": true
      },
      "execution_count": 1,
      "outputs": []
    },
    {
      "cell_type": "code",
      "source": "",
      "metadata": {},
      "execution_count": null,
      "outputs": []
    }
  ]
}
