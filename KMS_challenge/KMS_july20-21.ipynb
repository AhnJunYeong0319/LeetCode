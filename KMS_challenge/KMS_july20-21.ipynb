{
  "metadata": {
    "language_info": {
      "codemirror_mode": {
        "name": "python",
        "version": 3
      },
      "file_extension": ".py",
      "mimetype": "text/x-python",
      "name": "python",
      "nbconvert_exporter": "python",
      "pygments_lexer": "ipython3",
      "version": "3.8"
    },
    "kernelspec": {
      "name": "python",
      "display_name": "Python (Pyodide)",
      "language": "python"
    }
  },
  "nbformat_minor": 4,
  "nbformat": 4,
  "cells": [
    {
      "cell_type": "markdown",
      "source": "# July 20-21",
      "metadata": {}
    },
    {
      "cell_type": "markdown",
      "source": "**977. Squares of a Sorted Array (E)**",
      "metadata": {}
    },
    {
      "cell_type": "markdown",
      "source": "Explanation: simple two pointer problem",
      "metadata": {}
    },
    {
      "cell_type": "code",
      "source": "def ssa(nums):\n    i = 0\n    j = len(nums)-1\n    curr = -1\n    res = [0]*len(nums)\n    while i<=j:\n        if nums[i]**2>nums[j]**2:\n            res[curr] = nums[i]**2\n            i+=1\n        else:\n            res[cur] = nums[j]**2\n            j-=1\n        return res",
      "metadata": {},
      "execution_count": null,
      "outputs": []
    },
    {
      "cell_type": "markdown",
      "source": "**733. Flood Fill (E)**",
      "metadata": {}
    },
    {
      "cell_type": "markdown",
      "source": "Very similar to the \"Island\" problem",
      "metadata": {}
    },
    {
      "cell_type": "code",
      "source": "class Solution:\n    def floodFill(self, image, sr: int, sc: int, newColor: int):\n        oldColor = image[sr][sc]\n        if newColor==oldColor:\n            return image\n        offsets = [[0,1],[0,-1],[1,0],[-1,0]]\n        def dfs(sr,sc):\n            image[sr][sc] = newColor\n            for offset in offsets:\n                newrow = sr+offset[0]\n                newcol = sc+offset[1]\n                if newrow>=len(image) or newrow<0 or newcol>=len(image[0]) or newcol<0:\n                    continue\n                if image[newrow][newcol] == oldColor:\n                    dfs(newrow,newcol)\n        dfs(sr,sc)\n        return image\n            \n        ",
      "metadata": {
        "trusted": true
      },
      "execution_count": 2,
      "outputs": []
    },
    {
      "cell_type": "markdown",
      "source": "**513. Find Bottom Left Tree Value (M)**",
      "metadata": {}
    },
    {
      "cell_type": "markdown",
      "source": "Solved using BFS",
      "metadata": {}
    },
    {
      "cell_type": "code",
      "source": "class Solution:\n    def findBottomLeftValue(self, root: TreeNode) -> int:\n        if root == None:\n            return None\n        queue = [root]\n        root.depth = 0\n        maxdepth = 0\n        while queue!=[]:\n            curr = queue.pop(0)\n            if curr.depth>maxdepth:\n                maxdepth = curr.depth\n            if curr.left != None:\n                curr.left.depth = curr.depth + 1\n                queue.append(curr.left)\n            if curr.right != None:\n                curr.right.depth = curr.depth + 1\n                queue.append(curr.right)\n        queue = [root]\n        while queue!=[]:\n            curr = queue.pop(0)\n            if curr.depth == maxdepth:\n                return curr.val\n            if curr.left != None:\n                queue.append(curr.left)\n            if curr.right != None:\n                queue.append(curr.right)",
      "metadata": {},
      "execution_count": null,
      "outputs": []
    }
  ]
}
