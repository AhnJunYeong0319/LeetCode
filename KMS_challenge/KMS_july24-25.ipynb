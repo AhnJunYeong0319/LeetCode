{
  "metadata": {
    "language_info": {
      "codemirror_mode": {
        "name": "python",
        "version": 3
      },
      "file_extension": ".py",
      "mimetype": "text/x-python",
      "name": "python",
      "nbconvert_exporter": "python",
      "pygments_lexer": "ipython3",
      "version": "3.8"
    },
    "kernelspec": {
      "name": "python",
      "display_name": "Python (Pyodide)",
      "language": "python"
    }
  },
  "nbformat_minor": 4,
  "nbformat": 4,
  "cells": [
    {
      "cell_type": "markdown",
      "source": "# July 24-25",
      "metadata": {}
    },
    {
      "cell_type": "markdown",
      "source": "**876. Middle of the Linked List (E)**",
      "metadata": {}
    },
    {
      "cell_type": "code",
      "source": "class Solution:\n    def middleNode(self, head: Optional[ListNode]) -> Optional[ListNode]:\n        fast = head\n        slow = head\n        while  fast.next != None:\n            if fast.next.next != None:\n                fast = fast.next.next\n            else:\n                fast = fast.next\n            slow = slow.next\n        return slow \n        ",
      "metadata": {
        "trusted": true
      },
      "execution_count": null,
      "outputs": []
    },
    {
      "cell_type": "markdown",
      "source": "**1025. Divisor Game (E)**",
      "metadata": {}
    },
    {
      "cell_type": "code",
      "source": "class Solution:\n    def divisorGame(self, N: int) -> bool:\n        return bool(N%2==0)",
      "metadata": {
        "trusted": true
      },
      "execution_count": null,
      "outputs": []
    },
    {
      "cell_type": "markdown",
      "source": "**77. Combinations (M)**",
      "metadata": {}
    },
    {
      "cell_type": "markdown",
      "source": "Practicing bactktracking - this is the most typical backtracking problem",
      "metadata": {}
    },
    {
      "cell_type": "code",
      "source": "class Solution:\n    def combine(self, n: int, k: int) -> List[List[int]]:\n        r = []\n        nums = []\n        for i in range(1,n+1):\n            nums.append(i)\n        def backtrack(r,nums,path):\n            if len(path)==k:\n                r.append(path)\n                return\n            for i in range(len(nums)):\n                backtrack(r,nums[i+1:],path+[nums[i]])\n        backtrack(r,nums,[])\n        return r",
      "metadata": {
        "trusted": true
      },
      "execution_count": null,
      "outputs": []
    },
    {
      "cell_type": "code",
      "source": "",
      "metadata": {},
      "execution_count": null,
      "outputs": []
    }
  ]
}
