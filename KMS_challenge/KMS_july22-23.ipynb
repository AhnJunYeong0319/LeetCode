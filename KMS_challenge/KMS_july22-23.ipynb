{
  "metadata": {
    "language_info": {
      "codemirror_mode": {
        "name": "python",
        "version": 3
      },
      "file_extension": ".py",
      "mimetype": "text/x-python",
      "name": "python",
      "nbconvert_exporter": "python",
      "pygments_lexer": "ipython3",
      "version": "3.8"
    },
    "kernelspec": {
      "name": "python",
      "display_name": "Python (Pyodide)",
      "language": "python"
    }
  },
  "nbformat_minor": 4,
  "nbformat": 4,
  "cells": [
    {
      "cell_type": "markdown",
      "source": "# July 22-23",
      "metadata": {}
    },
    {
      "cell_type": "markdown",
      "source": "509. Fibonacci Number",
      "metadata": {}
    },
    {
      "cell_type": "markdown",
      "source": "(Dunno why it was not solved but ez1)",
      "metadata": {}
    },
    {
      "cell_type": "code",
      "source": "class Solution:\n    def fib(self, n: int) -> int:\n        mem = [0,1,1]\n        for i in range(3,n+1):\n            mem.append(mem[i-1]+mem[i-2])\n        return mem[n]",
      "metadata": {},
      "execution_count": null,
      "outputs": []
    },
    {
      "cell_type": "markdown",
      "source": "1137. N-th Tribonacci Number ",
      "metadata": {}
    },
    {
      "cell_type": "markdown",
      "source": "Just a simple variation of the Fib number problem",
      "metadata": {}
    },
    {
      "cell_type": "code",
      "source": "class Solution(object):\n    def tribonacci(self, n):\n        \"\"\"\n        :type n: int\n        :rtype: int\n        \"\"\"\n        \n        fib = [0,1,1]\n        for _ in range(n-2):\n            fib.append(fib[-1]+fib[-2]+fib[-3])\n        return fib[n]",
      "metadata": {},
      "execution_count": null,
      "outputs": []
    },
    {
      "cell_type": "markdown",
      "source": "129. Sum Root to Leaf Numbers (M)",
      "metadata": {}
    },
    {
      "cell_type": "code",
      "source": "class Solution:\n    def sumNumbers(self, root) -> int:\n        if root == [] or root==None:\n            return 0\n        totalArray = []\n        self.traverse(root,\"\",totalArray)\n        sum = 0\n        for i in totalArray:\n            sum+=int(i)\n        return sum\n    \n    def traverse(self, node, parentArray, totalArray):\n        newArray = parentArray+str(node.val)\n        if node.left==None and node.right == None:\n            totalArray.append(newArray)\n        if node.left != None:\n            self.traverse(node.left,newArray,totalArray)\n        if node.right != None:\n            self.traverse(node.right,newArray,totalArray)\n        ",
      "metadata": {
        "trusted": true
      },
      "execution_count": 3,
      "outputs": []
    },
    {
      "cell_type": "code",
      "source": "",
      "metadata": {},
      "execution_count": null,
      "outputs": []
    }
  ]
}