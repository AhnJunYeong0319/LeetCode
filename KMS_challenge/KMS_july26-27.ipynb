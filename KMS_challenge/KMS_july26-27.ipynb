{
  "metadata": {
    "language_info": {
      "codemirror_mode": {
        "name": "python",
        "version": 3
      },
      "file_extension": ".py",
      "mimetype": "text/x-python",
      "name": "python",
      "nbconvert_exporter": "python",
      "pygments_lexer": "ipython3",
      "version": "3.8"
    },
    "kernelspec": {
      "name": "python",
      "display_name": "Python (Pyodide)",
      "language": "python"
    }
  },
  "nbformat_minor": 4,
  "nbformat": 4,
  "cells": [
    {
      "cell_type": "markdown",
      "source": "# July 26-27",
      "metadata": {}
    },
    {
      "cell_type": "markdown",
      "source": "**283. Move Zeroes (E)**",
      "metadata": {}
    },
    {
      "cell_type": "markdown",
      "source": "Array manipulation problem. The key idea is to move all the non-zeroes integers into the beginning of the array keeping track of the index of\nthe last non-zeros integer in the beginning of the array.",
      "metadata": {}
    },
    {
      "cell_type": "code",
      "source": "class Solution:\n    def moveZeroes(self, nums) -> None:\n        \"\"\"\n        Do not return anything, modify nums in-place instead.\n        \"\"\"\n        lastindex = 0\n        for i in range(len(nums)):\n            if nums[i] != 0:\n                nums[lastindex] = nums[i]\n                if i != lastindex:\n                    nums[i] = 0\n                lastindex+=1",
      "metadata": {
        "trusted": true
      },
      "execution_count": 1,
      "outputs": []
    },
    {
      "cell_type": "markdown",
      "source": "**167. Two Sum II - Input Array Is Sorted (M)**",
      "metadata": {}
    },
    {
      "cell_type": "markdown",
      "source": "Just a variation of the two sum problem. The keyidea is the two-pointer loop.",
      "metadata": {}
    },
    {
      "cell_type": "code",
      "source": "class Solution:\n    def twoSum(self, numbers, target):\n        i = 0\n        j = len(numbers)-1\n        while i<j:\n            if numbers[i]+numbers[j]==target:\n                return [i+1, j+1]\n            elif numbers[i]+numbers[j]>target:\n                j-=1\n            else:\n                i+=1",
      "metadata": {
        "trusted": true
      },
      "execution_count": 2,
      "outputs": []
    },
    {
      "cell_type": "markdown",
      "source": "**344. Reverse String (E)**",
      "metadata": {}
    },
    {
      "cell_type": "code",
      "source": "Two-pointer problem.",
      "metadata": {},
      "execution_count": null,
      "outputs": []
    },
    {
      "cell_type": "code",
      "source": "class Solution:\n    def reverseString(self, s: List[str]) -> None:\n        \"\"\"\n        Do not return anything, modify s in-place instead.\n        \"\"\"\n        i = 0\n        j = len(s)-1\n        while i<j:\n            temp = s[i]\n            s[i] = s[j]\n            s[j] = temp\n            i+=1\n            j-=1",
      "metadata": {},
      "execution_count": null,
      "outputs": []
    }
  ]
}
