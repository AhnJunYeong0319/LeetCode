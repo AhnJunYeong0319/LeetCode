{
  "nbformat": 4,
  "nbformat_minor": 0,
  "metadata": {
    "colab": {
      "name": "2problems_daily_leetcode.ipynb",
      "provenance": [],
      "collapsed_sections": [],
      "toc_visible": true
    },
    "kernelspec": {
      "name": "python3",
      "display_name": "Python 3"
    },
    "language_info": {
      "name": "python"
    }
  },
  "cells": [
    {
      "cell_type": "markdown",
      "source": [
        "# July"
      ],
      "metadata": {
        "id": "lhDGV0AtGpp4"
      }
    },
    {
      "cell_type": "markdown",
      "source": [
        "## 18th"
      ],
      "metadata": {
        "id": "y_khddJZGvag"
      }
    },
    {
      "cell_type": "markdown",
      "source": [
        "### (E) 26. Remove Duplicates from Sorted Array"
      ],
      "metadata": {
        "id": "BYgMK4PpII_m"
      }
    },
    {
      "cell_type": "markdown",
      "source": [
        "76 / 31"
      ],
      "metadata": {
        "id": "Ox-_F1mEi7UE"
      }
    },
    {
      "cell_type": "code",
      "source": [
        "class Solution(object):\n",
        "    def removeDuplicates(self, nums):\n",
        "        \"\"\"\n",
        "        :type nums: List[int]\n",
        "        :rtype: int\n",
        "        \"\"\"\n",
        "        x = 1\n",
        "        for i in range(len(nums) - 1):\n",
        "          if (nums[i] != nums[i+1] ):\n",
        "            nuums[x] = nums[i + 1]\n",
        "            x += 1\n",
        "        return x"
      ],
      "metadata": {
        "id": "Rd6AZEFUinH_"
      },
      "execution_count": null,
      "outputs": []
    },
    {
      "cell_type": "markdown",
      "source": [
        "leetcode solution"
      ],
      "metadata": {
        "id": "AADdAZdZq6HY"
      }
    },
    {
      "cell_type": "code",
      "source": [
        "class Solution:\n",
        "    def removeDuplicates(self, nums: List[int]) -> int:\n",
        "        slow = 0\n",
        "        fast = 1\n",
        "        l = len(nums)\n",
        "        while fast<l:\n",
        "            if nums[slow] == nums[fast]:fast += 1\n",
        "            else:\n",
        "                slow += 1\n",
        "                nums[slow] ,nums[fast] = nums[fast] ,nums[slow]\n",
        "                fast += 1\n",
        "        return slow+1"
      ],
      "metadata": {
        "id": "rSZjz-Omq37Q"
      },
      "execution_count": null,
      "outputs": []
    },
    {
      "cell_type": "markdown",
      "source": [
        "### (E) 1480. Running Sum of 1d Array"
      ],
      "metadata": {
        "id": "9rLEv4KRbQXE"
      }
    },
    {
      "cell_type": "markdown",
      "source": [
        "38 / 38"
      ],
      "metadata": {
        "id": "wtTH5gNEbzeN"
      }
    },
    {
      "cell_type": "code",
      "source": [
        "nums = [1,1,1,1,1,1]\n",
        "\n",
        "class Solution(object):\n",
        "    def runningSum(self, nums):\n",
        "        \"\"\"\n",
        "        :type nums: List[int]\n",
        "        :rtype: List[int]\n",
        "        \"\"\"\n",
        "\n",
        "        for i in range(len(nums) - 1):\n",
        "          nums[i + 1] = nums[i] + nums[i + 1]\n",
        "        \n",
        "        return nums\n",
        "\n",
        "ans = Solution().runningSum(nums)\n",
        "print"
      ],
      "metadata": {
        "id": "c-9E6Uh6s24r"
      },
      "execution_count": null,
      "outputs": []
    },
    {
      "cell_type": "markdown",
      "source": [
        "51 / 12"
      ],
      "metadata": {
        "id": "mV3uEKkbcYtC"
      }
    },
    {
      "cell_type": "code",
      "source": [
        "nums = [1,2,3,4]\n",
        "\n",
        "class Solution(object):\n",
        "    def runningSum(self, nums):\n",
        "        \"\"\"\n",
        "        :type nums: List[int]\n",
        "        :rtype: List[int]\n",
        "        \"\"\"\n",
        "\n",
        "        return [sum(nums[:i + 1]) for i in range(len(nums)) ]\n",
        "\n",
        "ans = Solution().runningSum(nums)\n",
        "print(ans)"
      ],
      "metadata": {
        "id": "5Y0XZb8dqPfK"
      },
      "execution_count": null,
      "outputs": []
    },
    {
      "cell_type": "markdown",
      "source": [
        "### (M) 62. Unique Paths"
      ],
      "metadata": {
        "id": "9xSRYv6NdTTC"
      }
    },
    {
      "cell_type": "markdown",
      "source": [
        "23 / 44"
      ],
      "metadata": {
        "id": "EuOLimS2qrY1"
      }
    },
    {
      "cell_type": "code",
      "source": [
        "class Solution(object):\n",
        "    def uniquePaths(self, m, n):\n",
        "        \"\"\"\n",
        "        :type m: int\n",
        "        :type n: int\n",
        "        :rtype: int\n",
        "        \"\"\"\n",
        "        grid = [ [1 for j in range(n)] for i in range(m)]\n",
        "\n",
        "        if (m <= 0) or (n <= 0):\n",
        "            return 0\n",
        "        if (m == 1) or (n == 1):\n",
        "            return 1\n",
        "\n",
        "\n",
        "        for i in range(1, m):\n",
        "            for j in range(1, n):\n",
        "\n",
        "                grid[i][j] = grid[i-1][j] + grid[i][j-1]\n",
        "\n",
        "        return grid[m - 1][n - 1]"
      ],
      "metadata": {
        "id": "fJ2jjI5ZlCHu"
      },
      "execution_count": 56,
      "outputs": []
    },
    {
      "cell_type": "markdown",
      "source": [
        "34 / 98 - Better way (from [leetcode solution](https://leetcode.com/problems/unique-paths/discuss/23234/Accpeted-simple-Python-DP-solution).)"
      ],
      "metadata": {
        "id": "iw0Iyes9p8Lx"
      }
    },
    {
      "cell_type": "code",
      "source": [
        "class Solution(object):\n",
        "    def uniquePaths(self, m, n):\n",
        "        dp = [1] * n\n",
        "        for i in range(1, m):\n",
        "            for j in range(1, n):\n",
        "                dp[j] = dp[j - 1] + dp[j]\n",
        "        return dp[-1] if m and n else 0"
      ],
      "metadata": {
        "id": "C3Jb8ewsp8Qh"
      },
      "execution_count": 61,
      "outputs": []
    },
    {
      "cell_type": "markdown",
      "source": [
        "DFS / Time exceeded"
      ],
      "metadata": {
        "id": "QSGMV61dpa4L"
      }
    },
    {
      "cell_type": "code",
      "source": [
        "class Solution(object):\n",
        "\n",
        "    def dfs(self, m, n):\n",
        "\n",
        "      if (m == 0) or (n == 0):\n",
        "        self.path += 1\n",
        "        return\n",
        "      \n",
        "      else:\n",
        "        self.dfs(m - 1, n)\n",
        "        self.dfs(m, n - 1)\n",
        "\n",
        "    def uniquePaths(self, m, n):\n",
        "        \"\"\"\n",
        "        :type m: int\n",
        "        :type n: int\n",
        "        :rtype: int\n",
        "        \"\"\"\n",
        "        self.path = 0\n",
        "\n",
        "        self.dfs(m - 1, n - 1)\n",
        "        return self.path\n",
        "\n",
        "    \n",
        "\n",
        "ans = Solution().uniquePaths(15, 15)\n",
        "print(ans)"
      ],
      "metadata": {
        "id": "v5O2CbXUgnwu"
      },
      "execution_count": 52,
      "outputs": []
    }
  ]
}